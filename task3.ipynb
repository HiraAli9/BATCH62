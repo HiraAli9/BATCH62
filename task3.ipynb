{
 "cells": [
  {
   "cell_type": "code",
   "execution_count": 1,
   "metadata": {},
   "outputs": [
    {
     "name": "stdout",
     "output_type": "stream",
     "text": [
      "Emma\n",
      "Atlas\n",
      "Rose\n"
     ]
    }
   ],
   "source": [
    "names: list = ['Emma', 'Atlas', 'Rose']\n",
    "print(names[0])\n",
    "print(names[1])\n",
    "print(names[2])"
   ]
  },
  {
   "cell_type": "code",
   "execution_count": 4,
   "metadata": {},
   "outputs": [
    {
     "name": "stdout",
     "output_type": "stream",
     "text": [
      "Emma are you okay?\n",
      "I'm waiting for you Atlas\n",
      "My friend Rose, You're very beautiful\n"
     ]
    }
   ],
   "source": [
    "names: list = ['Emma', 'Atlas', 'Rose']\n",
    "print(f\"{names[0]} are you okay?\")\n",
    "print(f\"I'm waiting for you {names[1]}\")\n",
    "print(f\"My friend {names[2]}, You're very beautiful\")\n"
   ]
  },
  {
   "cell_type": "code",
   "execution_count": 6,
   "metadata": {},
   "outputs": [
    {
     "name": "stdout",
     "output_type": "stream",
     "text": [
      "Porsche is my dream car.\n",
      "Ferrari is the real beauty.\n",
      "Jeep rides in the mountains are my favorite.\n"
     ]
    }
   ],
   "source": [
    "cars: list = ['Porsche', 'Ferrari', 'Jeep']\n",
    "print(f\"{cars[0]} is my dream car.\")\n",
    "print(f\"{cars[1]} is the real beauty.\")\n",
    "print(f\"{cars[2]} rides in the mountains are my favorite.\")\n"
   ]
  },
  {
   "cell_type": "code",
   "execution_count": 7,
   "metadata": {},
   "outputs": [
    {
     "name": "stdout",
     "output_type": "stream",
     "text": [
      "Lily Potter, Let's have a dinner.\n",
      "Hey! James Potter, would you like alfredo for the dinner?\n",
      "Harry, I will be waiting for you at the dinner.\n"
     ]
    }
   ],
   "source": [
    "deceased: list= ['Lily Potter','James Potter', 'Harry']\n",
    "print(f\"{deceased[0]}, Let's have a dinner.\")\n",
    "print(f\"Hey! {deceased[1]}, would you like alfredo for the dinner?\")\n",
    "print(f\"{deceased[2]}, I will be waiting for you at the dinner.\")"
   ]
  },
  {
   "cell_type": "code",
   "execution_count": 2,
   "metadata": {},
   "outputs": [
    {
     "name": "stdout",
     "output_type": "stream",
     "text": [
      "Lily Potter, Let's have a dinner.\n",
      "Hey! James Potter, would you like alfredo for the dinner?\n",
      "Harry, I will be waiting for you at the dinner.\n",
      "James Potter can't make it.\n",
      "Lily Potter, Let's have a dinner.\n",
      "Hey! Snape, would you like alfredo for the dinner?\n",
      "Harry, I will be waiting for you at the dinner.\n"
     ]
    }
   ],
   "source": [
    "deceased: list= ['Lily Potter','James Potter', 'Harry']\n",
    "print(f\"{deceased[0]}, Let's have a dinner.\")\n",
    "print(f\"Hey! {deceased[1]}, would you like alfredo for the dinner?\")\n",
    "print(f\"{deceased[2]}, I will be waiting for you at the dinner.\")\n",
    "print(f\"{deceased[1]} can't make it.\")\n",
    "deceased[1]=\"Snape\"\n",
    "#second invitation\n",
    "print(f\"{deceased[0]}, Let's have a dinner.\")\n",
    "print(f\"Hey! {deceased[1]}, would you like alfredo for the dinner?\")\n",
    "print(f\"{deceased[2]}, I will be waiting for you at the dinner.\")"
   ]
  },
  {
   "cell_type": "code",
   "execution_count": 6,
   "metadata": {},
   "outputs": [
    {
     "name": "stdout",
     "output_type": "stream",
     "text": [
      "First invitation:\n",
      "Lily Potter, Let's have a dinner.\n",
      "Hey! James Potter, would you like alfredo for the dinner?\n",
      "Harry, I will be waiting for you at the dinner.\n",
      "Bad news:\n",
      "James Potter can't make it to the dinner.\n",
      "Second invitation:\n",
      "Lily Potter, Let's have a dinner.\n",
      "Hey! Snape, would you like alfredo for the dinner?\n",
      "Harry, I will be waiting for you at the dinner.\n",
      "Announcement:\n",
      "Guys, I found a bigger table.\n",
      "Third invitation:\n",
      "Hermione, Let's have a dinner.\n",
      "Hey! Lily Potter, would you like alfredo for the dinner?\n",
      "Ron, I will be waiting for you at the dinner.\n",
      "Snape, Join me for dinner.\n",
      "Harry, let's catch up over dinner.\n",
      "Hagrid, Dinner plans? Let's make some!\n"
     ]
    }
   ],
   "source": [
    "deceased: list= ['Lily Potter','James Potter', 'Harry']\n",
    "print('First invitation:')\n",
    "print(f\"{deceased[0]}, Let's have a dinner.\")\n",
    "print(f\"Hey! {deceased[1]}, would you like alfredo for the dinner?\")\n",
    "print(f\"{deceased[2]}, I will be waiting for you at the dinner.\")\n",
    "print('Bad news:')\n",
    "print(f\"{deceased[1]} can't make it to the dinner.\")\n",
    "deceased[1]=\"Snape\"\n",
    "print('Second invitation:')\n",
    "print(f\"{deceased[0]}, Let's have a dinner.\")\n",
    "print(f\"Hey! {deceased[1]}, would you like alfredo for the dinner?\")\n",
    "print(f\"{deceased[2]}, I will be waiting for you at the dinner.\")\n",
    "print('Announcement:')\n",
    "print(\"Guys, I found a bigger table.\")\n",
    "deceased.insert(0,'Hermione')\n",
    "deceased.insert(2, 'Ron')\n",
    "deceased.append('Hagrid')\n",
    "print('Third invitation:')\n",
    "print(f\"{deceased[0]}, Let's have a dinner.\")\n",
    "print(f\"Hey! {deceased[1]}, would you like alfredo for the dinner?\")\n",
    "print(f\"{deceased[2]}, I will be waiting for you at the dinner.\")\n",
    "print(f\"{deceased[3]}, Join me for dinner.\")\n",
    "print(f\"{deceased[4]}, let's catch up over dinner.\")\n",
    "print(f\"{deceased[5]}, Dinner plans? Let's make some!\")\n"
   ]
  },
  {
   "cell_type": "code",
   "execution_count": 12,
   "metadata": {},
   "outputs": [
    {
     "name": "stdout",
     "output_type": "stream",
     "text": [
      "First invitation:\n",
      "Lily Potter, Let's have a dinner.\n",
      "Hey! James Potter, would you like alfredo for the dinner?\n",
      "Harry, I will be waiting for you at the dinner.\n",
      "Bad news:\n",
      "James Potter can't make it to the dinner.\n",
      "Second invitation:\n",
      "Lily Potter, Let's have a dinner.\n",
      "Hey! Snape, would you like alfredo for the dinner?\n",
      "Harry, I will be waiting for you at the dinner.\n",
      "Announcement:\n",
      "Guys, I found a bigger table.\n",
      "Third invitation:\n",
      "Hermione, Let's have a dinner.\n",
      "Hey! Lily Potter, would you like alfredo for the dinner?\n",
      "Ron, I will be waiting for you at the dinner.\n",
      "Snape, Join me for dinner.\n",
      "Harry, let's catch up over dinner.\n",
      "Hagrid, Dinner plans? Let's make some!\n",
      "Another announcement:\n",
      "Sorry guys, I can invite only two people for dinner.\n",
      "I'm sorry Hagrid, I can't invite you to dinner.\n",
      "Harry, I'm sorry, I can't invite you to dinner.\n",
      "Snape,I'm sorry, I can't invite you to dinner.\n",
      "Ron,I'm sorry, I can't invite you to dinner.\n",
      "Imp message:\n",
      "Hermione, You are still invited.\n",
      "Lily Potter, You are still invited. \n",
      "[]\n"
     ]
    }
   ],
   "source": [
    "deceased: list= ['Lily Potter','James Potter', 'Harry']\n",
    "print('First invitation:')\n",
    "print(f\"{deceased[0]}, Let's have a dinner.\")\n",
    "print(f\"Hey! {deceased[1]}, would you like alfredo for the dinner?\")\n",
    "print(f\"{deceased[2]}, I will be waiting for you at the dinner.\")\n",
    "print('Bad news:')\n",
    "print(f\"{deceased[1]} can't make it to the dinner.\")\n",
    "deceased[1]=\"Snape\"\n",
    "print('Second invitation:')\n",
    "print(f\"{deceased[0]}, Let's have a dinner.\")\n",
    "print(f\"Hey! {deceased[1]}, would you like alfredo for the dinner?\")\n",
    "print(f\"{deceased[2]}, I will be waiting for you at the dinner.\")\n",
    "print('Announcement:')\n",
    "print(\"Guys, I found a bigger table.\")\n",
    "deceased.insert(0,'Hermione')\n",
    "deceased.insert(2, 'Ron')\n",
    "deceased.append('Hagrid')\n",
    "print('Third invitation:')\n",
    "print(f\"{deceased[0]}, Let's have a dinner.\")\n",
    "print(f\"Hey! {deceased[1]}, would you like alfredo for the dinner?\")\n",
    "print(f\"{deceased[2]}, I will be waiting for you at the dinner.\")\n",
    "print(f\"{deceased[3]}, Join me for dinner.\")\n",
    "print(f\"{deceased[4]}, let's catch up over dinner.\")\n",
    "print(f\"{deceased[5]}, Dinner plans? Let's make some!\")\n",
    "print('Another announcement:')\n",
    "print('Sorry guys, I can invite only two people for dinner.')\n",
    "rem1= deceased.pop()\n",
    "print(f\"I'm sorry {rem1}, I can't invite you to dinner.\")\n",
    "rem2=deceased.pop()\n",
    "print(f\"{rem2}, I'm sorry, I can't invite you to dinner.\")\n",
    "rem3=deceased.pop()\n",
    "print(f\"{rem3},I'm sorry, I can't invite you to dinner.\")\n",
    "rem4=deceased.pop()\n",
    "print(f\"{rem4},I'm sorry, I can't invite you to dinner.\")\n",
    "print('Imp message:')\n",
    "print(f\"{deceased[0]}, You are still invited.\")\n",
    "print(f\"{deceased[1]}, You are still invited. \")\n",
    "del deceased[1]\n",
    "del deceased[0]\n",
    "print(deceased)\n",
    "\n",
    "\n",
    "\n",
    "\n",
    "\n",
    "\n"
   ]
  },
  {
   "cell_type": "code",
   "execution_count": 19,
   "metadata": {},
   "outputs": [
    {
     "name": "stdout",
     "output_type": "stream",
     "text": [
      "Original list:\n",
      "['Switzerland', 'Iceland', 'Japan', 'Norway', 'Turkey', 'Seoul']\n",
      "Alphabetical order:\n",
      "['Iceland', 'Japan', 'Norway', 'Seoul', 'Switzerland', 'Turkey']\n",
      "Order of list:\n",
      "['Switzerland', 'Iceland', 'Japan', 'Norway', 'Turkey', 'Seoul']\n",
      "Reverse Alphabetical order:\n",
      "['Turkey', 'Switzerland', 'Seoul', 'Norway', 'Japan', 'Iceland']\n",
      "Order of list:\n",
      "['Switzerland', 'Iceland', 'Japan', 'Norway', 'Turkey', 'Seoul']\n",
      "Changed order of list:\n",
      "['Seoul', 'Turkey', 'Norway', 'Japan', 'Iceland', 'Switzerland']\n",
      "Change of order again:\n",
      "['Switzerland', 'Iceland', 'Japan', 'Norway', 'Turkey', 'Seoul']\n",
      "Alphabetical order:\n",
      "['Iceland', 'Japan', 'Norway', 'Seoul', 'Switzerland', 'Turkey']\n"
     ]
    }
   ],
   "source": [
    "dream= ['Switzerland','Iceland','Japan','Norway','Turkey','Seoul']\n",
    "print(\"Original list:\")\n",
    "print(dream)\n",
    "print('Alphabetical order:')\n",
    "print(sorted(dream))\n",
    "print(\"Order of list:\")\n",
    "print(dream)\n",
    "print('Reverse Alphabetical order:')\n",
    "print(sorted(dream, reverse=True))\n",
    "print(\"Order of list:\")\n",
    "print(dream)\n",
    "print(\"Changed order of list:\")\n",
    "dream.reverse()\n",
    "print(dream)\n",
    "print(\"Change of order again:\")\n",
    "dream.reverse()\n",
    "print(dream)\n",
    "print('Alphabetical order:')\n",
    "dream.sort()\n",
    "print(dream)\n",
    "\n",
    "\n"
   ]
  },
  {
   "cell_type": "code",
   "execution_count": 24,
   "metadata": {},
   "outputs": [
    {
     "name": "stdout",
     "output_type": "stream",
     "text": [
      "Index:\n",
      "['Everest', 'K2', 'NangaParbat', 'Fuji,Matterhorn', 'AmaDablam']\n",
      "NANGAPARBAT\n",
      "fuji,matterhorn\n",
      "['K2', 'Fuji,Matterhorn']\n",
      "Modify:\n",
      "['Everest', 'K2', 'NangaParbat', 'Lhotse', 'AmaDablam']\n",
      "Append:\n",
      "['Everest', 'K2', 'NangaParbat', 'Lhotse', 'AmaDablam', 'Annapurna']\n",
      "Insert:\n",
      "['Rainier', 'Everest', 'K2', 'NangaParbat', 'Makalu', 'Lhotse', 'AmaDablam', 'Annapurna']\n",
      "Sort:\n",
      "['AmaDablam', 'Annapurna', 'Everest', 'K2', 'Lhotse', 'Makalu', 'NangaParbat', 'Rainier']\n",
      "pop:\n",
      "copy:\n",
      "1677069124368\n",
      "1677069204992\n",
      "['K2, Rakaposhi, Nanga Parbat,Matterhor']\n",
      "Extend:\n",
      "['AmaDablam', 'Annapurna', 'Everest', 'K2', 'Makalu', 'NangaParbat', 'K2, Rakaposhi, Nanga Parbat,Matterhor']\n",
      "Reverse\n",
      "['K2, Rakaposhi, Nanga Parbat,Matterhor', 'NangaParbat', 'Makalu', 'K2', 'Everest', 'Annapurna', 'AmaDablam']\n"
     ]
    }
   ],
   "source": [
    "mountains: list=['Everest','K2','NangaParbat', 'Fuji,Matterhorn','AmaDablam']\n",
    "print('Index:')\n",
    "print(mountains)\n",
    "print(mountains[2].upper())\n",
    "print(mountains[3].lower())\n",
    "print(mountains[1:5:2])\n",
    "print('Modify:')\n",
    "mountains[3]='Lhotse'\n",
    "print(mountains)\n",
    "print('Append:')\n",
    "mountains.append('Annapurna')\n",
    "print(mountains)\n",
    "print('Insert:')\n",
    "mountains.insert(0,'Rainier')\n",
    "mountains.insert(4,'Makalu')\n",
    "print(mountains)\n",
    "print('Sort:')\n",
    "mountains.sort()\n",
    "print(mountains)\n",
    "print('pop:')\n",
    "mountains.pop(4)\n",
    "mountains.pop()\n",
    "mountains\n",
    "print('copy:')\n",
    "hills=mountains.copy\n",
    "print(id(hills))\n",
    "print(id(mountains))\n",
    "peaks=['K2, Rakaposhi, Nanga Parbat,Matterhor']\n",
    "print(peaks)\n",
    "print('Extend:')\n",
    "mountains.extend(peaks)\n",
    "print(mountains)\n",
    "print('Reverse')\n",
    "mountains.reverse()\n",
    "print(mountains)"
   ]
  },
  {
   "cell_type": "code",
   "execution_count": 30,
   "metadata": {},
   "outputs": [
    {
     "name": "stdout",
     "output_type": "stream",
     "text": [
      "Index error\n"
     ]
    },
    {
     "ename": "IndexError",
     "evalue": "list index out of range",
     "output_type": "error",
     "traceback": [
      "\u001b[1;31m---------------------------------------------------------------------------\u001b[0m",
      "\u001b[1;31mIndexError\u001b[0m                                Traceback (most recent call last)",
      "Cell \u001b[1;32mIn[30], line 3\u001b[0m\n\u001b[0;32m      1\u001b[0m \u001b[38;5;28mprint\u001b[39m(\u001b[38;5;124m'\u001b[39m\u001b[38;5;124mIndex error\u001b[39m\u001b[38;5;124m'\u001b[39m)\n\u001b[0;32m      2\u001b[0m friends:\u001b[38;5;28mlist\u001b[39m\u001b[38;5;241m=\u001b[39m[\u001b[38;5;124m'\u001b[39m\u001b[38;5;124mEmma\u001b[39m\u001b[38;5;124m'\u001b[39m,\u001b[38;5;124m'\u001b[39m\u001b[38;5;124mLily\u001b[39m\u001b[38;5;124m'\u001b[39m,\u001b[38;5;124m'\u001b[39m\u001b[38;5;124mStelwart\u001b[39m\u001b[38;5;124m'\u001b[39m]\n\u001b[1;32m----> 3\u001b[0m \u001b[38;5;28mprint\u001b[39m(\u001b[43mfriends\u001b[49m\u001b[43m[\u001b[49m\u001b[38;5;241;43m4\u001b[39;49m\u001b[43m]\u001b[49m)\n",
      "\u001b[1;31mIndexError\u001b[0m: list index out of range"
     ]
    }
   ],
   "source": [
    "print('Index error')\n",
    "friends:list=['Emma','Lily','Stelwart']\n",
    "print(friends[4])\n"
   ]
  },
  {
   "cell_type": "code",
   "execution_count": null,
   "metadata": {},
   "outputs": [],
   "source": []
  }
 ],
 "metadata": {
  "kernelspec": {
   "display_name": "Python 3",
   "language": "python",
   "name": "python3"
  },
  "language_info": {
   "codemirror_mode": {
    "name": "ipython",
    "version": 3
   },
   "file_extension": ".py",
   "mimetype": "text/x-python",
   "name": "python",
   "nbconvert_exporter": "python",
   "pygments_lexer": "ipython3",
   "version": "3.12.4"
  }
 },
 "nbformat": 4,
 "nbformat_minor": 2
}
